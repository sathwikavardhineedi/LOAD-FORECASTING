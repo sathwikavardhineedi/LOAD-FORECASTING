{
  "nbformat": 4,
  "nbformat_minor": 0,
  "metadata": {
    "colab": {
      "provenance": []
    },
    "kernelspec": {
      "name": "python3",
      "display_name": "Python 3"
    },
    "language_info": {
      "name": "python"
    }
  },
  "cells": [
    {
      "cell_type": "code",
      "source": [
        "#import necessary libraries\n",
        "import pandas as pd\n",
        "import numpy as np\n",
        "from sklearn.model_selection import train_test_split\n",
        "from sklearn.preprocessing import StandardScaler\n",
        "import xgboost as xgb\n",
        "from sklearn.metrics import mean_squared_error, mean_absolute_error"
      ],
      "metadata": {
        "id": "yi1c5enZpgSm"
      },
      "execution_count": 37,
      "outputs": []
    },
    {
      "cell_type": "code",
      "source": [
        "# Load the dataset\n",
        "df = pd.read_csv(\"assignment-data.csv\")\n",
        "df.info()"
      ],
      "metadata": {
        "colab": {
          "base_uri": "https://localhost:8080/"
        },
        "collapsed": true,
        "id": "cL848lNppibB",
        "outputId": "b43112d0-a6c3-44b0-fb28-15f38d9c6bed"
      },
      "execution_count": 38,
      "outputs": [
        {
          "output_type": "stream",
          "name": "stdout",
          "text": [
            "<class 'pandas.core.frame.DataFrame'>\n",
            "RangeIndex: 103392 entries, 0 to 103391\n",
            "Data columns (total 10 columns):\n",
            " #   Column                Non-Null Count   Dtype  \n",
            "---  ------                --------------   -----  \n",
            " 0   Unnamed: 0            103392 non-null  int64  \n",
            " 1   datetime              103392 non-null  object \n",
            " 2   load                  101952 non-null  float64\n",
            " 3   apparent_temperature  103392 non-null  float64\n",
            " 4   temperature           103392 non-null  float64\n",
            " 5   humidity              103392 non-null  float64\n",
            " 6   dew_point             103392 non-null  float64\n",
            " 7   wind_speed            103392 non-null  float64\n",
            " 8   cloud_cover           103392 non-null  float64\n",
            " 9   date                  103392 non-null  object \n",
            "dtypes: float64(7), int64(1), object(2)\n",
            "memory usage: 7.9+ MB\n"
          ]
        }
      ]
    },
    {
      "cell_type": "code",
      "source": [
        "df.isnull().sum() # checking for null values"
      ],
      "metadata": {
        "colab": {
          "base_uri": "https://localhost:8080/",
          "height": 398
        },
        "id": "QY1NI49-qHWd",
        "outputId": "297ebd4f-084b-4b9f-dbbc-96e7dac03bc9"
      },
      "execution_count": 39,
      "outputs": [
        {
          "output_type": "execute_result",
          "data": {
            "text/plain": [
              "Unnamed: 0                 0\n",
              "datetime                   0\n",
              "load                    1440\n",
              "apparent_temperature       0\n",
              "temperature                0\n",
              "humidity                   0\n",
              "dew_point                  0\n",
              "wind_speed                 0\n",
              "cloud_cover                0\n",
              "date                       0\n",
              "dtype: int64"
            ],
            "text/html": [
              "<div>\n",
              "<style scoped>\n",
              "    .dataframe tbody tr th:only-of-type {\n",
              "        vertical-align: middle;\n",
              "    }\n",
              "\n",
              "    .dataframe tbody tr th {\n",
              "        vertical-align: top;\n",
              "    }\n",
              "\n",
              "    .dataframe thead th {\n",
              "        text-align: right;\n",
              "    }\n",
              "</style>\n",
              "<table border=\"1\" class=\"dataframe\">\n",
              "  <thead>\n",
              "    <tr style=\"text-align: right;\">\n",
              "      <th></th>\n",
              "      <th>0</th>\n",
              "    </tr>\n",
              "  </thead>\n",
              "  <tbody>\n",
              "    <tr>\n",
              "      <th>Unnamed: 0</th>\n",
              "      <td>0</td>\n",
              "    </tr>\n",
              "    <tr>\n",
              "      <th>datetime</th>\n",
              "      <td>0</td>\n",
              "    </tr>\n",
              "    <tr>\n",
              "      <th>load</th>\n",
              "      <td>1440</td>\n",
              "    </tr>\n",
              "    <tr>\n",
              "      <th>apparent_temperature</th>\n",
              "      <td>0</td>\n",
              "    </tr>\n",
              "    <tr>\n",
              "      <th>temperature</th>\n",
              "      <td>0</td>\n",
              "    </tr>\n",
              "    <tr>\n",
              "      <th>humidity</th>\n",
              "      <td>0</td>\n",
              "    </tr>\n",
              "    <tr>\n",
              "      <th>dew_point</th>\n",
              "      <td>0</td>\n",
              "    </tr>\n",
              "    <tr>\n",
              "      <th>wind_speed</th>\n",
              "      <td>0</td>\n",
              "    </tr>\n",
              "    <tr>\n",
              "      <th>cloud_cover</th>\n",
              "      <td>0</td>\n",
              "    </tr>\n",
              "    <tr>\n",
              "      <th>date</th>\n",
              "      <td>0</td>\n",
              "    </tr>\n",
              "  </tbody>\n",
              "</table>\n",
              "</div><br><label><b>dtype:</b> int64</label>"
            ]
          },
          "metadata": {},
          "execution_count": 39
        }
      ]
    },
    {
      "cell_type": "code",
      "source": [
        "# Convert 'datetime' to datetime objects\n",
        "df[\"datetime\"] = pd.to_datetime(df[\"datetime\"])\n",
        "\n",
        "# Drop the unnecessary 'Unnamed: 0' column\n",
        "df.drop(columns=[\"Unnamed: 0\"], inplace=True)\n",
        "\n",
        "# Handle missing values in 'load' using interpolation\n",
        "df[\"load\"] = df[\"load\"].interpolate(method=\"linear\")\n"
      ],
      "metadata": {
        "id": "P1A2YEYCqLpU"
      },
      "execution_count": 40,
      "outputs": []
    },
    {
      "cell_type": "code",
      "source": [
        "df.isnull().sum()"
      ],
      "metadata": {
        "colab": {
          "base_uri": "https://localhost:8080/",
          "height": 366
        },
        "id": "S5wZh4O_xecc",
        "outputId": "1e602968-71f2-4abc-a56e-d2c18588f86a"
      },
      "execution_count": 41,
      "outputs": [
        {
          "output_type": "execute_result",
          "data": {
            "text/plain": [
              "datetime                0\n",
              "load                    0\n",
              "apparent_temperature    0\n",
              "temperature             0\n",
              "humidity                0\n",
              "dew_point               0\n",
              "wind_speed              0\n",
              "cloud_cover             0\n",
              "date                    0\n",
              "dtype: int64"
            ],
            "text/html": [
              "<div>\n",
              "<style scoped>\n",
              "    .dataframe tbody tr th:only-of-type {\n",
              "        vertical-align: middle;\n",
              "    }\n",
              "\n",
              "    .dataframe tbody tr th {\n",
              "        vertical-align: top;\n",
              "    }\n",
              "\n",
              "    .dataframe thead th {\n",
              "        text-align: right;\n",
              "    }\n",
              "</style>\n",
              "<table border=\"1\" class=\"dataframe\">\n",
              "  <thead>\n",
              "    <tr style=\"text-align: right;\">\n",
              "      <th></th>\n",
              "      <th>0</th>\n",
              "    </tr>\n",
              "  </thead>\n",
              "  <tbody>\n",
              "    <tr>\n",
              "      <th>datetime</th>\n",
              "      <td>0</td>\n",
              "    </tr>\n",
              "    <tr>\n",
              "      <th>load</th>\n",
              "      <td>0</td>\n",
              "    </tr>\n",
              "    <tr>\n",
              "      <th>apparent_temperature</th>\n",
              "      <td>0</td>\n",
              "    </tr>\n",
              "    <tr>\n",
              "      <th>temperature</th>\n",
              "      <td>0</td>\n",
              "    </tr>\n",
              "    <tr>\n",
              "      <th>humidity</th>\n",
              "      <td>0</td>\n",
              "    </tr>\n",
              "    <tr>\n",
              "      <th>dew_point</th>\n",
              "      <td>0</td>\n",
              "    </tr>\n",
              "    <tr>\n",
              "      <th>wind_speed</th>\n",
              "      <td>0</td>\n",
              "    </tr>\n",
              "    <tr>\n",
              "      <th>cloud_cover</th>\n",
              "      <td>0</td>\n",
              "    </tr>\n",
              "    <tr>\n",
              "      <th>date</th>\n",
              "      <td>0</td>\n",
              "    </tr>\n",
              "  </tbody>\n",
              "</table>\n",
              "</div><br><label><b>dtype:</b> int64</label>"
            ]
          },
          "metadata": {},
          "execution_count": 41
        }
      ]
    },
    {
      "cell_type": "code",
      "source": [
        "# Extract time-based features\n",
        "df[\"hour\"] = df[\"datetime\"].dt.hour\n",
        "df[\"day\"] = df[\"datetime\"].dt.day\n",
        "df[\"month\"] = df[\"datetime\"].dt.month\n",
        "df[\"weekday\"] = df[\"datetime\"].dt.weekday  # Monday=0, Sunday=6\n",
        "\n",
        "# Define a list of Indian national holidays (2018-2020)\n",
        "holidays = [\n",
        "    \"2018-08-15\", \"2018-10-02\", \"2018-12-25\",\n",
        "    \"2019-08-15\", \"2019-10-02\", \"2019-12-25\",\n",
        "    \"2020-08-15\", \"2020-10-02\", \"2020-12-25\"\n",
        "]\n",
        "\n",
        "# Convert to datetime and create a holiday feature\n",
        "df[\"is_holiday\"] = df[\"datetime\"].dt.date.astype(str).isin(holidays).astype(int)\n",
        "\n",
        "# Verify new features\n",
        "print(df.head())\n"
      ],
      "metadata": {
        "colab": {
          "base_uri": "https://localhost:8080/"
        },
        "id": "R_TGtUaYpmLu",
        "outputId": "d87e0cc7-cd70-4bf7-d69b-14305350481d"
      },
      "execution_count": 42,
      "outputs": [
        {
          "output_type": "stream",
          "name": "stdout",
          "text": [
            "             datetime       load  apparent_temperature  temperature  humidity  \\\n",
            "0 2018-01-01 00:00:00  803.22270              10.45800     10.45800  0.955500   \n",
            "1 2018-01-01 00:15:00  774.89523              10.32675     10.32675  0.961625   \n",
            "2 2018-01-01 00:30:00  731.46927              10.19550     10.19550  0.967750   \n",
            "3 2018-01-01 00:45:00  713.93870              10.06425     10.06425  0.973875   \n",
            "4 2018-01-01 01:00:00  699.23007               9.93300      9.93300  0.980000   \n",
            "\n",
            "   dew_point  wind_speed  cloud_cover        date  hour  day  month  weekday  \\\n",
            "0   8.946000         0.0          0.0  2018-01-01     0    1      1        0   \n",
            "1   8.911875         0.0          0.0  2018-01-01     0    1      1        0   \n",
            "2   8.877750         0.0          0.0  2018-01-01     0    1      1        0   \n",
            "3   8.843625         0.0          0.0  2018-01-01     0    1      1        0   \n",
            "4   8.809500         0.0          0.0  2018-01-01     1    1      1        0   \n",
            "\n",
            "   is_holiday  \n",
            "0           0  \n",
            "1           0  \n",
            "2           0  \n",
            "3           0  \n",
            "4           0  \n"
          ]
        }
      ]
    },
    {
      "cell_type": "code",
      "source": [
        "from sklearn.metrics import mean_squared_error, mean_absolute_error, mean_absolute_percentage_error # Import mean_absolute_percentage_error\n",
        "# Select features and target\n",
        "features = [\"hour\", \"day\", \"month\", \"weekday\", \"temperature\", \"humidity\", \"wind_speed\", \"is_holiday\"]\n",
        "X = df[features]\n",
        "y = df[\"load\"]\n",
        "\n",
        "# Split data: Use past data for training, exclude December 2020\n",
        "X_train = X[df[\"datetime\"] < \"2020-12-01\"]\n",
        "y_train = y[df[\"datetime\"] < \"2020-12-01\"]\n",
        "\n",
        "X_test = X[df[\"datetime\"] >= \"2020-12-01\"]\n",
        "y_test = y[df[\"datetime\"] >= \"2020-12-01\"]\n",
        "\n",
        "# Scale the features\n",
        "scaler = StandardScaler()\n",
        "X_train_scaled = scaler.fit_transform(X_train)\n",
        "X_test_scaled = scaler.transform(X_test)\n",
        "\n",
        "# Train XGBoost Model\n",
        "model = xgb.XGBRegressor(n_estimators=100, learning_rate=0.1, random_state=42, objective=\"reg:squarederror\")\n",
        "model.fit(X_train_scaled, y_train)\n",
        "\n",
        "# Make predictions\n",
        "y_pred = model.predict(X_test_scaled)\n",
        "\n",
        "# Calculate MAPE\n",
        "mape = mean_absolute_percentage_error(y_test, y_pred) * 100\n",
        "print(f\"Mean Absolute Percentage Error (MAPE): {mape:.2f}%\")"
      ],
      "metadata": {
        "colab": {
          "base_uri": "https://localhost:8080/"
        },
        "id": "D9IyW6W1q-Ma",
        "outputId": "3cc12e80-48fe-4fee-86cf-62977e740893"
      },
      "execution_count": 43,
      "outputs": [
        {
          "output_type": "stream",
          "name": "stdout",
          "text": [
            "Mean Absolute Percentage Error (MAPE): 5.73%\n"
          ]
        }
      ]
    },
    {
      "cell_type": "code",
      "source": [
        "\n",
        "# Generate 15-minute interval timestamps for Dec 14, 2020\n",
        "date_14_dec = pd.date_range(start=\"2020-12-14 00:00:00\", end=\"2020-12-14 23:45:00\", freq=\"15T\")\n",
        "\n",
        "#  Create a DataFrame with these timestamps\n",
        "forecast_df = pd.DataFrame({\"datetime\": date_14_dec})\n",
        "\n",
        "#  Add the same feature columns as in training\n",
        "forecast_df[\"hour\"] = forecast_df[\"datetime\"].dt.hour\n",
        "forecast_df[\"day\"] = forecast_df[\"datetime\"].dt.day\n",
        "forecast_df[\"month\"] = forecast_df[\"datetime\"].dt.month\n",
        "forecast_df[\"weekday\"] = forecast_df[\"datetime\"].dt.weekday  # Monday=0, Sunday=6\n",
        "\n",
        "#  Since we don't have actual weather data for Dec 14, 2020, use the average of past Dec 14 values\n",
        "weather_features = [\"temperature\", \"humidity\", \"wind_speed\"]\n",
        "for feature in weather_features:\n",
        "    forecast_df[feature] = df[df[\"month\"] == 12][feature].mean()\n",
        "\n",
        "#  Add holiday indicator\n",
        "forecast_df[\"is_holiday\"] = 1 if \"2020-12-14\" in [\"2020-08-15\", \"2020-10-02\", \"2020-12-25\"] else 0\n",
        "\n",
        "#  Drop 'datetime' before scaling\n",
        "X_dec14 = forecast_df.drop(columns=[\"datetime\"])\n",
        "\n",
        "#  Scale the features\n",
        "X_dec14_scaled = scaler.transform(X_dec14)\n",
        "\n",
        "#  Predict load values\n",
        "forecast_df[\"forecast\"] = model.predict(X_dec14_scaled)\n",
        "\n",
        "#  Save to CSV\n",
        "forecast_df.to_csv(\"forecast_dec14_xgboost.csv\", index=False)\n",
        "\n",
        "print(\" Forecast for Dec 14, 2020 saved as 'forecast_dec14_xgboost.csv'\")"
      ],
      "metadata": {
        "colab": {
          "base_uri": "https://localhost:8080/"
        },
        "id": "fn5qMH06rU0l",
        "outputId": "704e87c4-98a2-4d4c-a93b-8a697145220d"
      },
      "execution_count": 44,
      "outputs": [
        {
          "output_type": "stream",
          "name": "stdout",
          "text": [
            " Forecast for Dec 14, 2020 saved as 'forecast_dec14_xgboost.csv'\n"
          ]
        },
        {
          "output_type": "stream",
          "name": "stderr",
          "text": [
            "<ipython-input-44-9828cbde0884>:2: FutureWarning: 'T' is deprecated and will be removed in a future version, please use 'min' instead.\n",
            "  date_14_dec = pd.date_range(start=\"2020-12-14 00:00:00\", end=\"2020-12-14 23:45:00\", freq=\"15T\")\n"
          ]
        }
      ]
    },
    {
      "cell_type": "code",
      "source": [
        "from google.colab import files\n",
        "files.download(\"forecast_dec14_xgboost.csv\")"
      ],
      "metadata": {
        "colab": {
          "base_uri": "https://localhost:8080/",
          "height": 17
        },
        "id": "k5PDIzrsr4YO",
        "outputId": "4c5515b2-b4a2-45c1-f525-84a0c2c47e75"
      },
      "execution_count": 45,
      "outputs": [
        {
          "output_type": "display_data",
          "data": {
            "text/plain": [
              "<IPython.core.display.Javascript object>"
            ],
            "application/javascript": [
              "\n",
              "    async function download(id, filename, size) {\n",
              "      if (!google.colab.kernel.accessAllowed) {\n",
              "        return;\n",
              "      }\n",
              "      const div = document.createElement('div');\n",
              "      const label = document.createElement('label');\n",
              "      label.textContent = `Downloading \"${filename}\": `;\n",
              "      div.appendChild(label);\n",
              "      const progress = document.createElement('progress');\n",
              "      progress.max = size;\n",
              "      div.appendChild(progress);\n",
              "      document.body.appendChild(div);\n",
              "\n",
              "      const buffers = [];\n",
              "      let downloaded = 0;\n",
              "\n",
              "      const channel = await google.colab.kernel.comms.open(id);\n",
              "      // Send a message to notify the kernel that we're ready.\n",
              "      channel.send({})\n",
              "\n",
              "      for await (const message of channel.messages) {\n",
              "        // Send a message to notify the kernel that we're ready.\n",
              "        channel.send({})\n",
              "        if (message.buffers) {\n",
              "          for (const buffer of message.buffers) {\n",
              "            buffers.push(buffer);\n",
              "            downloaded += buffer.byteLength;\n",
              "            progress.value = downloaded;\n",
              "          }\n",
              "        }\n",
              "      }\n",
              "      const blob = new Blob(buffers, {type: 'application/binary'});\n",
              "      const a = document.createElement('a');\n",
              "      a.href = window.URL.createObjectURL(blob);\n",
              "      a.download = filename;\n",
              "      div.appendChild(a);\n",
              "      a.click();\n",
              "      div.remove();\n",
              "    }\n",
              "  "
            ]
          },
          "metadata": {}
        },
        {
          "output_type": "display_data",
          "data": {
            "text/plain": [
              "<IPython.core.display.Javascript object>"
            ],
            "application/javascript": [
              "download(\"download_5f329443-9cdf-4709-a05e-27ae4d8bd691\", \"forecast_dec14_xgboost.csv\", 9532)"
            ]
          },
          "metadata": {}
        }
      ]
    },
    {
      "cell_type": "code",
      "source": [
        "# Select only datetime and forecast columns\n",
        "final_forecast_df = forecast_df[[\"datetime\", \"forecast\"]]\n",
        "\n",
        "# Save the final CSV file for submission\n",
        "final_forecast_df.to_csv(\"final_forecast_dec14.csv\", index=False)\n",
        "\n",
        "print(\"Final submission file saved as 'final_forecast_dec14.csv'\")"
      ],
      "metadata": {
        "colab": {
          "base_uri": "https://localhost:8080/"
        },
        "id": "ZCUjiVCSwlNP",
        "outputId": "2bab81f8-cb8b-434b-d315-9bb5662e1c71"
      },
      "execution_count": 46,
      "outputs": [
        {
          "output_type": "stream",
          "name": "stdout",
          "text": [
            "Final submission file saved as 'final_forecast_dec14.csv'\n"
          ]
        }
      ]
    },
    {
      "cell_type": "code",
      "source": [
        "from google.colab import files\n",
        "files.download(\"final_forecast_dec14.csv\")"
      ],
      "metadata": {
        "colab": {
          "base_uri": "https://localhost:8080/",
          "height": 17
        },
        "id": "qiwWeZS3wmdp",
        "outputId": "5064fc60-aadb-41aa-fbf7-ba612e90b7f5"
      },
      "execution_count": 47,
      "outputs": [
        {
          "output_type": "display_data",
          "data": {
            "text/plain": [
              "<IPython.core.display.Javascript object>"
            ],
            "application/javascript": [
              "\n",
              "    async function download(id, filename, size) {\n",
              "      if (!google.colab.kernel.accessAllowed) {\n",
              "        return;\n",
              "      }\n",
              "      const div = document.createElement('div');\n",
              "      const label = document.createElement('label');\n",
              "      label.textContent = `Downloading \"${filename}\": `;\n",
              "      div.appendChild(label);\n",
              "      const progress = document.createElement('progress');\n",
              "      progress.max = size;\n",
              "      div.appendChild(progress);\n",
              "      document.body.appendChild(div);\n",
              "\n",
              "      const buffers = [];\n",
              "      let downloaded = 0;\n",
              "\n",
              "      const channel = await google.colab.kernel.comms.open(id);\n",
              "      // Send a message to notify the kernel that we're ready.\n",
              "      channel.send({})\n",
              "\n",
              "      for await (const message of channel.messages) {\n",
              "        // Send a message to notify the kernel that we're ready.\n",
              "        channel.send({})\n",
              "        if (message.buffers) {\n",
              "          for (const buffer of message.buffers) {\n",
              "            buffers.push(buffer);\n",
              "            downloaded += buffer.byteLength;\n",
              "            progress.value = downloaded;\n",
              "          }\n",
              "        }\n",
              "      }\n",
              "      const blob = new Blob(buffers, {type: 'application/binary'});\n",
              "      const a = document.createElement('a');\n",
              "      a.href = window.URL.createObjectURL(blob);\n",
              "      a.download = filename;\n",
              "      div.appendChild(a);\n",
              "      a.click();\n",
              "      div.remove();\n",
              "    }\n",
              "  "
            ]
          },
          "metadata": {}
        },
        {
          "output_type": "display_data",
          "data": {
            "text/plain": [
              "<IPython.core.display.Javascript object>"
            ],
            "application/javascript": [
              "download(\"download_b84051a9-5af8-4775-8f55-9ec76038a8c2\", \"final_forecast_dec14.csv\", 2882)"
            ]
          },
          "metadata": {}
        }
      ]
    }
  ]
}